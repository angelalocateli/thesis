{
 "cells": [
  {
   "cell_type": "code",
   "execution_count": 6,
   "id": "0788bdba-6d7d-426f-8b12-bb88141c7005",
   "metadata": {
    "jupyter": {
     "source_hidden": true
    },
    "tags": []
   },
   "outputs": [
    {
     "name": "stdout",
     "output_type": "stream",
     "text": [
      "# Carregando...\n",
      "\n",
      "Importe um arquivo .csv\n"
     ]
    },
    {
     "data": {
      "application/vnd.jupyter.widget-view+json": {
       "model_id": "1d2f6005412843d7bae46b88bce6abf2",
       "version_major": 2,
       "version_minor": 0
      },
      "text/plain": [
       "FileUpload(value={}, accept='.csv', description='Upload')"
      ]
     },
     "metadata": {},
     "output_type": "display_data"
    }
   ],
   "source": [
    "print(\"# Carregando...\\n\")\n",
    "from IPython.display import display, clear_output\n",
    "import utils\n",
    "import numpy as np\n",
    "import pandas as pd\n",
    "import datetime\n",
    "import matplotlib.pyplot as plt\n",
    "import ipywidgets as widgets\n",
    "import io\n",
    "\n",
    "uploader = widgets.FileUpload(\n",
    "    accept='.csv',  # Accepted file extension e.g. '.txt', '.pdf', 'image/*', 'image/*,.pdf'\n",
    "    multiple=False  # True to accept multiple files upload else False\n",
    ")\n",
    "\n",
    "print(\"Importe um arquivo .csv\")\n",
    "display(uploader)"
   ]
  },
  {
   "cell_type": "code",
   "execution_count": 7,
   "id": "7a9d7321-062d-409c-9dd2-9d400e223afe",
   "metadata": {
    "jupyter": {
     "source_hidden": true
    },
    "tags": []
   },
   "outputs": [
    {
     "name": "stdout",
     "output_type": "stream",
     "text": [
      "CSV importado com sucesso\n"
     ]
    }
   ],
   "source": [
    "isEmpty = not bool(uploader.value)\n",
    "try:\n",
    "    input_file = list(uploader.value.values())[0]\n",
    "    content = input_file['content']\n",
    "    content = io.StringIO(content.decode('utf-8'))\n",
    "    df = pd.read_csv(content, sep=';')    \n",
    "    print(\"CSV importado com sucesso\")\n",
    "except:\n",
    "    print(\"Precisa subir um arquivo .csv\")"
   ]
  },
  {
   "cell_type": "code",
   "execution_count": 8,
   "id": "c37d335d-218d-4e42-b3bd-a88d92aab5d6",
   "metadata": {
    "jupyter": {
     "source_hidden": true
    },
    "tags": []
   },
   "outputs": [
    {
     "name": "stdout",
     "output_type": "stream",
     "text": [
      "# Inciando análise...\n",
      "# Análise finalizada com sucesso.\n",
      "\n",
      "-----------------------------------------------\n",
      "Defina o gap:\n"
     ]
    },
    {
     "data": {
      "application/vnd.jupyter.widget-view+json": {
       "model_id": "59eac59d5c584603abae9399db3121af",
       "version_major": 2,
       "version_minor": 0
      },
      "text/plain": [
       "IntSlider(value=0, description='GAP:', max=7, min=-7)"
      ]
     },
     "metadata": {},
     "output_type": "display_data"
    },
    {
     "name": "stdout",
     "output_type": "stream",
     "text": [
      "\n",
      "Escolha o padrão para análise:\n"
     ]
    },
    {
     "data": {
      "application/vnd.jupyter.widget-view+json": {
       "model_id": "7dbadd26a3ba47938959a3fbe97d07bc",
       "version_major": 2,
       "version_minor": 0
      },
      "text/plain": [
       "Box(children=(Label(value='Padrões encontrados:'), Dropdown(layout=Layout(width='max-content'), options=(('inf…"
      ]
     },
     "metadata": {},
     "output_type": "display_data"
    },
    {
     "data": {
      "application/vnd.jupyter.widget-view+json": {
       "model_id": "13c9fce450454858a3ba02d386b1b5de",
       "version_major": 2,
       "version_minor": 0
      },
      "text/plain": [
       "Button(description='Atualizar', style=ButtonStyle())"
      ]
     },
     "metadata": {},
     "output_type": "display_data"
    },
    {
     "data": {
      "application/vnd.jupyter.widget-view+json": {
       "model_id": "4a64c74622a64d7db9913bd61737b361",
       "version_major": 2,
       "version_minor": 0
      },
      "text/plain": [
       "Output()"
      ]
     },
     "metadata": {},
     "output_type": "display_data"
    }
   ],
   "source": [
    "# gerando DFs com respectivos filtros\n",
    "print(\"# Inciando análise...\")\n",
    "try:\n",
    "    consequente = df[(df.internacao=='sup_media')]\n",
    "    consequente = consequente.reset_index(drop=True)\n",
    "    inter_filter = consequente[(consequente.MP25 =='sup_media') |\n",
    "                               (consequente.MP10 =='sup_media') |\n",
    "                               (consequente.CO   =='sup_media') |\n",
    "                               (consequente.SO2  =='sup_media') |\n",
    "                               (consequente.NO2  =='sup_media') |\n",
    "                               (consequente.O3   =='sup_media')]\n",
    "    inter_filter = inter_filter.reset_index(drop=True)\n",
    "\n",
    "    df_supports = utils.get_supports(utils.joinDate(inter_filter))\n",
    "    df_timeAnalysis = utils.joinDate(df)\n",
    "\n",
    "    tx_tables = utils.timeRelation(df_timeAnalysis, df_supports)\n",
    "\n",
    "    options = []\n",
    "    for row in df_supports.iloc[:, :-2].iterrows():\n",
    "        index, ref_pattern = row    \n",
    "        line = ref_pattern.tolist()\n",
    "        line = \"   --   \".join(line)\n",
    "        options.append((line, index))\n",
    "\n",
    "    pattern_widget = widgets.Box(\n",
    "        [\n",
    "            widgets.Label(value='Padrões encontrados:'),\n",
    "            widgets.Dropdown(\n",
    "                options=options,\n",
    "                layout={'width': 'max-content'}\n",
    "            )\n",
    "        ]\n",
    "    )\n",
    "\n",
    "    gap_widget = widgets.IntSlider(\n",
    "        value=0,\n",
    "        min=-7,\n",
    "        max=7,\n",
    "        step=1,\n",
    "        description='GAP:',\n",
    "        disabled=False,\n",
    "        continuous_update=True,\n",
    "        orientation='horizontal',\n",
    "        readout=True,\n",
    "        readout_format='d'\n",
    "    )\n",
    "    print(\"# Análise finalizada com sucesso.\")\n",
    "    print(\"\\n-----------------------------------------------\")\n",
    "    print(\"Defina o gap:\")\n",
    "    display(gap_widget)\n",
    "    print(\"\\nEscolha o padrão para análise:\")\n",
    "    display(pattern_widget)\n",
    "\n",
    "\n",
    "    button = widgets.Button(description=\"Atualizar\")\n",
    "    output = widgets.Output()\n",
    "\n",
    "    display(button, output)\n",
    "    state = False\n",
    "    def on_button_clicked(b):    \n",
    "        with output:\n",
    "            clear_output(wait=True)\n",
    "            pattern = pattern_widget.children[1].value\n",
    "            gap = gap_widget.value\n",
    "            ref = df_supports.iloc[pattern, :-2]\n",
    "            tx_table = tx_tables[str(ref)][gap]\n",
    "\n",
    "            print(\"\\n\\nTabela tx gap=%d\" % (gap))\n",
    "            display(tx_table)\n",
    "    button.on_click(on_button_clicked)\n",
    "except:\n",
    "    print(\"Algo deu errado. \\nPor favor, verifique a compatibilidade do arquivo .csv\")"
   ]
  },
  {
   "cell_type": "code",
   "execution_count": null,
   "id": "738f90db-2521-490d-b490-5a9000658715",
   "metadata": {
    "collapsed": true,
    "jupyter": {
     "outputs_hidden": true
    }
   },
   "outputs": [],
   "source": []
  }
 ],
 "metadata": {
  "kernelspec": {
   "display_name": "Python 3 (ipykernel)",
   "language": "python",
   "name": "python3"
  },
  "language_info": {
   "codemirror_mode": {
    "name": "ipython",
    "version": 3
   },
   "file_extension": ".py",
   "mimetype": "text/x-python",
   "name": "python",
   "nbconvert_exporter": "python",
   "pygments_lexer": "ipython3",
   "version": "3.9.7"
  }
 },
 "nbformat": 4,
 "nbformat_minor": 5
}
